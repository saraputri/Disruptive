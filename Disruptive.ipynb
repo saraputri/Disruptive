{
 "cells": [
  {
   "cell_type": "code",
   "execution_count": null,
   "metadata": {},
   "outputs": [],
   "source": []
  },
  {
   "cell_type": "code",
   "execution_count": 74,
   "metadata": {},
   "outputs": [
    {
     "data": {
      "text/html": [
       "<script>requirejs.config({paths: { 'plotly': ['https://cdn.plot.ly/plotly-latest.min']},});if(!window.Plotly) {{require(['plotly'],function(plotly) {window.Plotly=plotly;});}}</script>"
      ],
      "text/vnd.plotly.v1+html": [
       "<script>requirejs.config({paths: { 'plotly': ['https://cdn.plot.ly/plotly-latest.min']},});if(!window.Plotly) {{require(['plotly'],function(plotly) {window.Plotly=plotly;});}}</script>"
      ]
     },
     "metadata": {},
     "output_type": "display_data"
    }
   ],
   "source": [
    "import plotly \n",
    "plotly.tools.set_credentials_file(username='saraputri', api_key='ryjnBkAlTcxF1bPqaNde')\n",
    "\n",
    "import plotly.graph_objs as go\n",
    "\n",
    "plotly.offline.init_notebook_mode(connected=True)"
   ]
  },
  {
   "cell_type": "code",
   "execution_count": null,
   "metadata": {},
   "outputs": [],
   "source": [
    "#json request plotly Pandas dataframe row as bar chart\n",
    "#Name of the currency top 10 rank\n",
    "\n",
    "import json\n",
    "import requests\n",
    "import pandas as pd\n",
    "import plotly.plotly as py\n",
    "import cufflinks as cf\n",
    "import plotly.graph_objs as go\n",
    "import numpy as np\n",
    "r = requests.get('https://api.coinmarketcap.com/v1/ticker/')\n",
    "#r.json()\n",
    "\n",
    "#json_data = json.loads(r.text)\n",
    "json_data = r.json()\n",
    "#json_data[0]\n",
    "\n",
    "N = 10\n",
    "x = np.linspace(0, 1, N)\n",
    "y = np.random.randn(N)\n",
    "\n",
    "stops = pd.DataFrame(json_data)\n",
    "stops.head()\n",
    "#stops[\"name\"]\n",
    "data = [\n",
    "    go.Bar(\n",
    "        x=stops['name'], # assign x as the dataframe column 'x'\n",
    "        y=stops['rank'][:10]\n",
    "    )\n",
    "]\n",
    "\n",
    "# IPython notebook\n",
    "# py.iplot(data, filename='pandas-bar-chart')\n",
    "\n",
    "url = py.plot(data, filename='')"
   ]
  },
  {
   "cell_type": "code",
   "execution_count": null,
   "metadata": {},
   "outputs": [],
   "source": [
    "#json request plotly Pandas dataframe row as bar chart\n",
    "#name of the currency with the price\n",
    "\n",
    "import json\n",
    "import requests\n",
    "import pandas as pd\n",
    "import plotly.plotly as py\n",
    "import cufflinks as cf\n",
    "import plotly.graph_objs as go\n",
    "import numpy as np\n",
    "r = requests.get('https://api.coinmarketcap.com/v1/ticker/')\n",
    "#r.json()\n",
    "\n",
    "#json_data = json.loads(r.text)\n",
    "json_data = r.json()\n",
    "#json_data[0]\n",
    "\n",
    "N = 10\n",
    "x = np.linspace(0, 1, N)\n",
    "y = np.random.randn(N)\n",
    "\n",
    "stops = pd.DataFrame(json_data)\n",
    "stops.head()\n",
    "#stops[\"name\"]\n",
    "data = [\n",
    "    go.Bar(\n",
    "        x=stops['name'], # assign x as the dataframe column 'x'\n",
    "        y=stops['price_usd'][:10]\n",
    "    )\n",
    "]\n",
    "\n",
    "# IPython notebook\n",
    "# py.iplot(data, filename='pandas-bar-chart')\n",
    "\n",
    "url = py.plot(data, filename='')"
   ]
  },
  {
   "cell_type": "code",
   "execution_count": 81,
   "metadata": {},
   "outputs": [
    {
     "data": {
      "text/html": [
       "<iframe id=\"igraph\" scrolling=\"no\" style=\"border:none;\" seamless=\"seamless\" src=\"https://plot.ly/~saraputri/4.embed\" height=\"525px\" width=\"100%\"></iframe>"
      ],
      "text/plain": [
       "<plotly.tools.PlotlyDisplay object>"
      ]
     },
     "execution_count": 81,
     "metadata": {},
     "output_type": "execute_result"
    }
   ],
   "source": [
    "\n",
    "#json request coba pake plotly \n",
    "\n",
    "import json\n",
    "import requests\n",
    "import pandas as pd\n",
    "import plotly.plotly as py\n",
    "import cufflinks as cf\n",
    "r = requests.get('https://api.coinmarketcap.com/v1/ticker/')\n",
    "#r.json()\n",
    "\n",
    "#json_data = json.loads(r.text)\n",
    "json_data = r.json()\n",
    "#json_data[0]\n",
    "\n",
    "#untuk mengambil nama column\n",
    "#column_names = [col[\"fieldName\"] for col in columns]\n",
    "#column_names\n",
    "\n",
    "\n",
    "stops = pd.DataFrame(json_data)\n",
    "#stops[\"name\"]\n",
    "series = stops['usd_price'].value_counts()[:20]\n",
    "#series.head(3)\n",
    "\n",
    "series.iplot(kind='bar', yTitle='price_usd', title='Cryptocurrency',\n",
    "             filename='')\n"
   ]
  },
  {
   "cell_type": "code",
   "execution_count": 76,
   "metadata": {},
   "outputs": [],
   "source": []
  },
  {
   "cell_type": "code",
   "execution_count": 79,
   "metadata": {},
   "outputs": [],
   "source": []
  }
 ],
 "metadata": {
  "kernelspec": {
   "display_name": "Python 3",
   "language": "python",
   "name": "python3"
  },
  "language_info": {
   "codemirror_mode": {
    "name": "ipython",
    "version": 3
   },
   "file_extension": ".py",
   "mimetype": "text/x-python",
   "name": "python",
   "nbconvert_exporter": "python",
   "pygments_lexer": "ipython3",
   "version": "3.6.4"
  }
 },
 "nbformat": 4,
 "nbformat_minor": 2
}
